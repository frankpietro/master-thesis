{
 "cells": [
  {
   "attachments": {},
   "cell_type": "markdown",
   "metadata": {},
   "source": [
    "# Modello Home Care\n",
    "Pietro Francaviglia"
   ]
  },
  {
   "attachments": {},
   "cell_type": "markdown",
   "metadata": {},
   "source": [
    "## Librerie e file locali"
   ]
  },
  {
   "cell_type": "code",
   "execution_count": 1,
   "metadata": {},
   "outputs": [],
   "source": [
    "import python.preprocessing as pp\n",
    "import python.constants as c\n",
    "\n",
    "from python.classes import *\n",
    "from python.stats import *"
   ]
  },
  {
   "attachments": {},
   "cell_type": "markdown",
   "metadata": {},
   "source": [
    "## Soluzione versione nominale"
   ]
  },
  {
   "cell_type": "code",
   "execution_count": 2,
   "metadata": {},
   "outputs": [],
   "source": [
    "pp.preprocess()"
   ]
  },
  {
   "attachments": {},
   "cell_type": "markdown",
   "metadata": {},
   "source": [
    "## Statistiche"
   ]
  },
  {
   "cell_type": "code",
   "execution_count": 3,
   "metadata": {},
   "outputs": [],
   "source": [
    "import json"
   ]
  },
  {
   "cell_type": "code",
   "execution_count": 8,
   "metadata": {},
   "outputs": [],
   "source": [
    "input_json = pp.retrieve_JSON(c.INPUT_JSON)\n",
    "\n",
    "Cw = input_json['Cw']\n",
    "Cw = 12\n",
    "input_json['Cw'] = Cw\n",
    "\n",
    "pp.save_JSON(input_json, c.INPUT_JSON)"
   ]
  },
  {
   "cell_type": "code",
   "execution_count": 9,
   "metadata": {},
   "outputs": [
    {
     "name": "stdout",
     "output_type": "stream",
     "text": [
      "12\n"
     ]
    }
   ],
   "source": [
    "input_json = pp.retrieve_JSON(c.INPUT_JSON)\n",
    "Cw = input_json['Cw']\n",
    "print(Cw)"
   ]
  },
  {
   "cell_type": "code",
   "execution_count": 25,
   "metadata": {},
   "outputs": [],
   "source": [
    "\n",
    "# patients stats\n",
    "requiredVisitsPerPatient = [sum(in_d.visitRequest[i]) for i in range(in_d.numPatients)]\n",
    "requiredTimePerPatient = [sum([in_d.visitRequest[i][j] * (in_d.visitEndTime[i][j] - in_d.visitStartTime[i][j]) for j in range(in_d.numDays)]) for i in range(in_d.numPatients)]"
   ]
  },
  {
   "cell_type": "code",
   "execution_count": 26,
   "metadata": {},
   "outputs": [],
   "source": [
    "# create an array of VisitRequest objects using the input data\n",
    "visitRequests = []\n",
    "\n",
    "for i in range(in_d.numPatients):\n",
    "    for j in range(in_d.numDays):\n",
    "        if in_d.visitRequest[i][j] == 1:\n",
    "            visitRequests.append(VisitRequest(i, j, in_d.visitStartTime[i][j], in_d.visitEndTime[i][j], in_d.visitSkill[i][j], in_d.visitPriority[i][j]))\n",
    "\n",
    "visits = []\n",
    "\n",
    "for o in range(in_d.numOperators):\n",
    "    for i in range(in_d.numPatients):\n",
    "        for j in range(in_d.numDays):\n",
    "            if out_d.visitExecution[o][i][j] == 1:\n",
    "                visits.append(Visit(i, j, in_d.visitStartTime[i][j], in_d.visitEndTime[i][j], in_d.visitSkill[i][j], in_d.visitPriority[i][j], o))"
   ]
  },
  {
   "cell_type": "code",
   "execution_count": 27,
   "metadata": {},
   "outputs": [
    {
     "data": {
      "text/plain": [
       "[VisitRequest(patient=0, day=0, start=150, end=180, skill=1, priority=0),\n",
       " VisitRequest(patient=1, day=1, start=35, end=55, skill=1, priority=1),\n",
       " VisitRequest(patient=2, day=3, start=225, end=265, skill=1, priority=0),\n",
       " VisitRequest(patient=3, day=1, start=190, end=210, skill=1, priority=0),\n",
       " VisitRequest(patient=3, day=5, start=120, end=140, skill=1, priority=0),\n",
       " VisitRequest(patient=3, day=7, start=30, end=50, skill=1, priority=0),\n",
       " VisitRequest(patient=4, day=5, start=45, end=85, skill=1, priority=0),\n",
       " VisitRequest(patient=5, day=5, start=175, end=215, skill=2, priority=0),\n",
       " VisitRequest(patient=6, day=1, start=195, end=225, skill=1, priority=1),\n",
       " VisitRequest(patient=6, day=5, start=160, end=180, skill=1, priority=1),\n",
       " VisitRequest(patient=6, day=9, start=35, end=70, skill=1, priority=0),\n",
       " VisitRequest(patient=7, day=0, start=105, end=135, skill=1, priority=0),\n",
       " VisitRequest(patient=7, day=9, start=210, end=250, skill=1, priority=0),\n",
       " VisitRequest(patient=8, day=1, start=230, end=270, skill=1, priority=0),\n",
       " VisitRequest(patient=8, day=4, start=110, end=130, skill=2, priority=0),\n",
       " VisitRequest(patient=8, day=5, start=110, end=140, skill=1, priority=1),\n",
       " VisitRequest(patient=8, day=6, start=45, end=90, skill=1, priority=0),\n",
       " VisitRequest(patient=8, day=9, start=90, end=120, skill=1, priority=0),\n",
       " VisitRequest(patient=9, day=3, start=175, end=195, skill=1, priority=0),\n",
       " VisitRequest(patient=9, day=6, start=160, end=190, skill=1, priority=0),\n",
       " VisitRequest(patient=10, day=1, start=235, end=255, skill=1, priority=0),\n",
       " VisitRequest(patient=11, day=3, start=160, end=190, skill=1, priority=0),\n",
       " VisitRequest(patient=11, day=4, start=200, end=240, skill=2, priority=1),\n",
       " VisitRequest(patient=11, day=9, start=60, end=80, skill=1, priority=0),\n",
       " VisitRequest(patient=12, day=5, start=150, end=175, skill=1, priority=0),\n",
       " VisitRequest(patient=12, day=6, start=110, end=140, skill=1, priority=0),\n",
       " VisitRequest(patient=12, day=7, start=30, end=90, skill=1, priority=1),\n",
       " VisitRequest(patient=13, day=9, start=220, end=270, skill=1, priority=0),\n",
       " VisitRequest(patient=14, day=9, start=105, end=155, skill=2, priority=0),\n",
       " VisitRequest(patient=15, day=9, start=210, end=230, skill=1, priority=0),\n",
       " VisitRequest(patient=16, day=2, start=195, end=230, skill=1, priority=0),\n",
       " VisitRequest(patient=17, day=7, start=165, end=175, skill=2, priority=0),\n",
       " VisitRequest(patient=17, day=9, start=170, end=210, skill=1, priority=0),\n",
       " VisitRequest(patient=18, day=3, start=175, end=200, skill=1, priority=0),\n",
       " VisitRequest(patient=18, day=6, start=165, end=185, skill=1, priority=1),\n",
       " VisitRequest(patient=18, day=7, start=80, end=120, skill=1, priority=0),\n",
       " VisitRequest(patient=19, day=6, start=145, end=175, skill=2, priority=0)]"
      ]
     },
     "execution_count": 27,
     "metadata": {},
     "output_type": "execute_result"
    }
   ],
   "source": [
    "visitRequests"
   ]
  },
  {
   "cell_type": "code",
   "execution_count": 28,
   "metadata": {},
   "outputs": [
    {
     "data": {
      "text/plain": [
       "[Visit(patient=0, day=0, start=150, end=180, skill=1, priority=0, operator=0),\n",
       " Visit(patient=4, day=5, start=45, end=85, skill=1, priority=0, operator=0),\n",
       " Visit(patient=11, day=3, start=160, end=190, skill=1, priority=0, operator=0),\n",
       " Visit(patient=11, day=4, start=200, end=240, skill=2, priority=1, operator=0),\n",
       " Visit(patient=11, day=9, start=60, end=80, skill=1, priority=0, operator=0),\n",
       " Visit(patient=8, day=1, start=230, end=270, skill=1, priority=0, operator=1),\n",
       " Visit(patient=8, day=4, start=110, end=130, skill=2, priority=0, operator=1),\n",
       " Visit(patient=8, day=5, start=110, end=140, skill=1, priority=1, operator=1),\n",
       " Visit(patient=8, day=6, start=45, end=90, skill=1, priority=0, operator=1),\n",
       " Visit(patient=8, day=9, start=90, end=120, skill=1, priority=0, operator=1),\n",
       " Visit(patient=3, day=1, start=190, end=210, skill=1, priority=0, operator=2),\n",
       " Visit(patient=3, day=5, start=120, end=140, skill=1, priority=0, operator=2),\n",
       " Visit(patient=12, day=5, start=150, end=175, skill=1, priority=0, operator=2),\n",
       " Visit(patient=12, day=6, start=110, end=140, skill=1, priority=0, operator=2),\n",
       " Visit(patient=12, day=7, start=30, end=90, skill=1, priority=1, operator=2),\n",
       " Visit(patient=19, day=6, start=145, end=175, skill=2, priority=0, operator=2),\n",
       " Visit(patient=1, day=1, start=35, end=55, skill=1, priority=1, operator=3),\n",
       " Visit(patient=10, day=1, start=235, end=255, skill=1, priority=0, operator=3),\n",
       " Visit(patient=16, day=2, start=195, end=230, skill=1, priority=0, operator=3),\n",
       " Visit(patient=18, day=3, start=175, end=200, skill=1, priority=0, operator=3),\n",
       " Visit(patient=18, day=6, start=165, end=185, skill=1, priority=1, operator=3),\n",
       " Visit(patient=18, day=7, start=80, end=120, skill=1, priority=0, operator=3),\n",
       " Visit(patient=13, day=9, start=220, end=270, skill=1, priority=0, operator=4),\n",
       " Visit(patient=14, day=9, start=105, end=155, skill=2, priority=0, operator=4),\n",
       " Visit(patient=17, day=7, start=165, end=175, skill=2, priority=0, operator=4),\n",
       " Visit(patient=17, day=9, start=170, end=210, skill=1, priority=0, operator=4),\n",
       " Visit(patient=6, day=1, start=195, end=225, skill=1, priority=1, operator=5),\n",
       " Visit(patient=6, day=5, start=160, end=180, skill=1, priority=1, operator=5),\n",
       " Visit(patient=6, day=9, start=35, end=70, skill=1, priority=0, operator=5),\n",
       " Visit(patient=9, day=3, start=175, end=195, skill=1, priority=0, operator=5),\n",
       " Visit(patient=9, day=6, start=160, end=190, skill=1, priority=0, operator=5),\n",
       " Visit(patient=15, day=9, start=210, end=230, skill=1, priority=0, operator=5),\n",
       " Visit(patient=2, day=3, start=225, end=265, skill=1, priority=0, operator=6),\n",
       " Visit(patient=5, day=5, start=175, end=215, skill=2, priority=0, operator=6),\n",
       " Visit(patient=7, day=0, start=105, end=135, skill=1, priority=0, operator=6),\n",
       " Visit(patient=7, day=9, start=210, end=250, skill=1, priority=0, operator=6)]"
      ]
     },
     "execution_count": 28,
     "metadata": {},
     "output_type": "execute_result"
    }
   ],
   "source": [
    "visits"
   ]
  },
  {
   "cell_type": "code",
   "execution_count": 9,
   "metadata": {},
   "outputs": [
    {
     "name": "stdout",
     "output_type": "stream",
     "text": [
      "-- Operator 4 schedule --\n",
      "Day 0: No work\n",
      "Day 1: No work\n",
      "Day 2: No work\n",
      "Day 3: No work\n",
      "Day 4: No work\n",
      "Day 5: No work\n",
      "Day 6: No work\n",
      "Day 7: (165, 175, 2, 17), \n",
      "Day 8: No work\n",
      "Day 9: (105, 155, 2, 14), (170, 210, 1, 17), (220, 270, 1, 13), \n"
     ]
    }
   ],
   "source": [
    "operator_schedule(4)"
   ]
  },
  {
   "cell_type": "code",
   "execution_count": 7,
   "metadata": {},
   "outputs": [
    {
     "data": {
      "text/plain": [
       "13.0"
      ]
     },
     "execution_count": 7,
     "metadata": {},
     "output_type": "execute_result"
    }
   ],
   "source": [
    "comm_d.commutingTime[14][17]"
   ]
  },
  {
   "attachments": {},
   "cell_type": "markdown",
   "metadata": {},
   "source": [
    "## Scenari di incertezza"
   ]
  },
  {
   "cell_type": "code",
   "execution_count": null,
   "metadata": {},
   "outputs": [],
   "source": [
    "# write a function that changes the value of a specific cell in a matrix in data/input_data.py and then writes the change in the file\n",
    "def change_matrix_cell(file, var, dims, cell, value):\n",
    "    with open(file, 'r') as f:\n",
    "        # retrieve the line that starts with the variable name var\n",
    "        lines = f.readlines()\n",
    "    \n",
    "    for i in range(len(lines)):\n",
    "        \n",
    "        \n"
   ]
  }
 ],
 "metadata": {
  "kernelspec": {
   "display_name": "Python 3",
   "language": "python",
   "name": "python3"
  },
  "language_info": {
   "codemirror_mode": {
    "name": "ipython",
    "version": 3
   },
   "file_extension": ".py",
   "mimetype": "text/x-python",
   "name": "python",
   "nbconvert_exporter": "python",
   "pygments_lexer": "ipython3",
   "version": "3.10.6"
  },
  "orig_nbformat": 4
 },
 "nbformat": 4,
 "nbformat_minor": 2
}
