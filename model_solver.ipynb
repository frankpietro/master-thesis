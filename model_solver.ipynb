{
 "cells": [
  {
   "cell_type": "code",
   "execution_count": 2,
   "metadata": {},
   "outputs": [],
   "source": [
    "import cplex\n",
    "\n",
    "MOD = 'model/thesis-4.mod'\n",
    "DAT = 'model/thesis-4.dat'\n",
    "OPS = 'model/thesis.ops'"
   ]
  },
  {
   "cell_type": "code",
   "execution_count": 3,
   "metadata": {},
   "outputs": [
    {
     "name": "stderr",
     "output_type": "stream",
     "text": [
      "CPLEX Error  1423: Could not open file 'thesis-4.mod' for reading.\n",
      "CPLEX Error  1423: Could not open file 'thesis-4.mod.sav' for reading.\n",
      "CPLEX Error  1423: Could not open file 'thesis-4.mod' for reading.\n",
      "CPLEX Error  1423: Could not open file 'thesis-4.mod' for reading.\n"
     ]
    },
    {
     "ename": "CplexSolverError",
     "evalue": "CPLEX Error  1423: Could not open file 'thesis-4.mod' for reading.",
     "output_type": "error",
     "traceback": [
      "\u001b[0;31m---------------------------------------------------------------------------\u001b[0m",
      "\u001b[0;31mCplexSolverError\u001b[0m                          Traceback (most recent call last)",
      "\u001b[1;32m/home/frankp/unipi/tesi/project/model_solver.ipynb Cell 2\u001b[0m in \u001b[0;36m<cell line: 4>\u001b[0;34m()\u001b[0m\n\u001b[1;32m      <a href='vscode-notebook-cell:/home/frankp/unipi/tesi/project/model_solver.ipynb#W1sZmlsZQ%3D%3D?line=0'>1</a>\u001b[0m solver \u001b[39m=\u001b[39m cplex\u001b[39m.\u001b[39mCplex()\n\u001b[1;32m      <a href='vscode-notebook-cell:/home/frankp/unipi/tesi/project/model_solver.ipynb#W1sZmlsZQ%3D%3D?line=2'>3</a>\u001b[0m \u001b[39m# read .mod, .dat, .ops files\u001b[39;00m\n\u001b[0;32m----> <a href='vscode-notebook-cell:/home/frankp/unipi/tesi/project/model_solver.ipynb#W1sZmlsZQ%3D%3D?line=3'>4</a>\u001b[0m solver\u001b[39m.\u001b[39;49mread(\u001b[39mf\u001b[39;49m\u001b[39m\"\u001b[39;49m\u001b[39m{\u001b[39;49;00mNAME\u001b[39m}\u001b[39;49;00m\u001b[39m.mod\u001b[39;49m\u001b[39m\"\u001b[39;49m)\n\u001b[1;32m      <a href='vscode-notebook-cell:/home/frankp/unipi/tesi/project/model_solver.ipynb#W1sZmlsZQ%3D%3D?line=4'>5</a>\u001b[0m solver\u001b[39m.\u001b[39mread(\u001b[39mf\u001b[39m\u001b[39m\"\u001b[39m\u001b[39m{\u001b[39;00mNAME\u001b[39m}\u001b[39;00m\u001b[39m.dat\u001b[39m\u001b[39m\"\u001b[39m)\n\u001b[1;32m      <a href='vscode-notebook-cell:/home/frankp/unipi/tesi/project/model_solver.ipynb#W1sZmlsZQ%3D%3D?line=5'>6</a>\u001b[0m solver\u001b[39m.\u001b[39mread(OPS)\n",
      "File \u001b[0;32m~/.local/lib/python3.10/site-packages/cplex/__init__.py:973\u001b[0m, in \u001b[0;36mCplex.read\u001b[0;34m(self, filename, filetype)\u001b[0m\n\u001b[1;32m    952\u001b[0m \u001b[39mdef\u001b[39;00m \u001b[39mread\u001b[39m(\u001b[39mself\u001b[39m, filename, filetype\u001b[39m=\u001b[39m\u001b[39m\"\u001b[39m\u001b[39m\"\u001b[39m):\n\u001b[1;32m    953\u001b[0m     \u001b[39m\"\"\"Reads a problem from file.\u001b[39;00m\n\u001b[1;32m    954\u001b[0m \n\u001b[1;32m    955\u001b[0m \u001b[39m    The first argument is a string specifying the filename from which\u001b[39;00m\n\u001b[0;32m   (...)\u001b[0m\n\u001b[1;32m    971\u001b[0m \u001b[39m    >>> c.read(\"lpex.mps\")\u001b[39;00m\n\u001b[1;32m    972\u001b[0m \u001b[39m    \"\"\"\u001b[39;00m\n\u001b[0;32m--> 973\u001b[0m     _proc\u001b[39m.\u001b[39;49mreadcopyprob(\u001b[39mself\u001b[39;49m\u001b[39m.\u001b[39;49m_env\u001b[39m.\u001b[39;49m_e, \u001b[39mself\u001b[39;49m\u001b[39m.\u001b[39;49m_lp, filename, filetype)\n",
      "File \u001b[0;32m~/.local/lib/python3.10/site-packages/cplex/_internal/_procedural.py:688\u001b[0m, in \u001b[0;36mreadcopyprob\u001b[0;34m(env, lp, filename, filetype)\u001b[0m\n\u001b[1;32m    686\u001b[0m \u001b[39melse\u001b[39;00m:\n\u001b[1;32m    687\u001b[0m     status \u001b[39m=\u001b[39m CR\u001b[39m.\u001b[39mCPXXreadcopyprob(env, lp, filename, filetype)\n\u001b[0;32m--> 688\u001b[0m check_status(env, status)\n",
      "File \u001b[0;32m~/.local/lib/python3.10/site-packages/cplex/_internal/_procedural.py:249\u001b[0m, in \u001b[0;36mStatusChecker.__call__\u001b[0;34m(self, env, status, from_cb)\u001b[0m\n\u001b[1;32m    247\u001b[0m     \u001b[39melse\u001b[39;00m:\n\u001b[1;32m    248\u001b[0m         error_string \u001b[39m=\u001b[39m geterrorstring(env, status)\n\u001b[0;32m--> 249\u001b[0m \u001b[39mraise\u001b[39;00m CplexSolverError(error_string, env, status)\n",
      "\u001b[0;31mCplexSolverError\u001b[0m: CPLEX Error  1423: Could not open file 'thesis-4.mod' for reading."
     ]
    }
   ],
   "source": [
    "solver = cplex.Cplex()\n",
    "\n",
    "# read .mod, .dat, .ops files\n",
    "solver.read(f\"{NAME}.mod\")\n",
    "solver.read(f\"{NAME}.dat\")\n",
    "solver.read(OPS)\n",
    "\n",
    "solver.set_results_stream(None)\n",
    "solver.set_warning_stream(None)\n",
    "solver.set_error_stream(None)\n",
    "solver.set_log_stream(None)\n",
    "\n",
    "solver.solve()\n",
    "\n",
    "print(solver.solution.get_values())\n",
    "print(solver.solution.get_objective_value())\n",
    "\n"
   ]
  }
 ],
 "metadata": {
  "kernelspec": {
   "display_name": "Python 3",
   "language": "python",
   "name": "python3"
  },
  "language_info": {
   "codemirror_mode": {
    "name": "ipython",
    "version": 3
   },
   "file_extension": ".py",
   "mimetype": "text/x-python",
   "name": "python",
   "nbconvert_exporter": "python",
   "pygments_lexer": "ipython3",
   "version": "3.10.6"
  },
  "orig_nbformat": 4
 },
 "nbformat": 4,
 "nbformat_minor": 2
}
