{
 "cells": [
  {
   "cell_type": "code",
   "execution_count": 1,
   "metadata": {},
   "outputs": [],
   "source": [
    "import python.preprocessing as pp\n",
    "\n",
    "pp.preprocess()"
   ]
  },
  {
   "cell_type": "code",
   "execution_count": 3,
   "metadata": {},
   "outputs": [],
   "source": [
    "import data.input_data as id\n",
    "import data.output_data as od"
   ]
  },
  {
   "cell_type": "code",
   "execution_count": 3,
   "metadata": {},
   "outputs": [],
   "source": [
    "m = pp.compute_commuting_matrix()\n",
    "        "
   ]
  },
  {
   "cell_type": "code",
   "execution_count": 10,
   "metadata": {},
   "outputs": [],
   "source": [
    "with open('tmp.dat', 'w') as f:\n",
    "    f.write('commutingTime = [\\n')\n",
    "    for i in range(len(m)):\n",
    "        f.write('\\t[' + ','.join([str(round(x,2)) for x in m[i]]))\n",
    "        \n",
    "        if i != len(m) - 1:\n",
    "            f.write('],\\n')\n",
    "        else:\n",
    "            f.write(']\\n')\n",
    "\n",
    "    f.write(']\\n')\n"
   ]
  }
 ],
 "metadata": {
  "kernelspec": {
   "display_name": "Python 3",
   "language": "python",
   "name": "python3"
  },
  "language_info": {
   "codemirror_mode": {
    "name": "ipython",
    "version": 3
   },
   "file_extension": ".py",
   "mimetype": "text/x-python",
   "name": "python",
   "nbconvert_exporter": "python",
   "pygments_lexer": "ipython3",
   "version": "3.10.6"
  },
  "orig_nbformat": 4
 },
 "nbformat": 4,
 "nbformat_minor": 2
}
