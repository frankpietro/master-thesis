{
 "cells": [
  {
   "attachments": {},
   "cell_type": "markdown",
   "metadata": {},
   "source": [
    "# Modello Home Care\n",
    "Pietro Francaviglia"
   ]
  },
  {
   "attachments": {},
   "cell_type": "markdown",
   "metadata": {},
   "source": [
    "## Librerie e file locali"
   ]
  },
  {
   "cell_type": "code",
   "execution_count": 1,
   "metadata": {},
   "outputs": [],
   "source": [
    "import src.processing as p\n",
    "import src.constants as c\n",
    "import src.utilities as u\n",
    "import src.stats as s\n",
    "import src.uncertainties as uc\n",
    "import src.manipulation as m"
   ]
  },
  {
   "attachments": {},
   "cell_type": "markdown",
   "metadata": {},
   "source": [
    "## Soluzione versione nominale"
   ]
  },
  {
   "cell_type": "code",
   "execution_count": 2,
   "metadata": {},
   "outputs": [],
   "source": [
    "p.run()"
   ]
  },
  {
   "attachments": {},
   "cell_type": "markdown",
   "metadata": {},
   "source": [
    "## Statistiche"
   ]
  },
  {
   "cell_type": "code",
   "execution_count": 3,
   "metadata": {},
   "outputs": [],
   "source": [
    "input_data = u.merge_JSON_files(c.INPUT_JSON_PATHS)\n",
    "output_data = u.retrieve_JSON(c.OUTPUT_JSON)"
   ]
  },
  {
   "attachments": {},
   "cell_type": "markdown",
   "metadata": {},
   "source": [
    "### Operatori"
   ]
  },
  {
   "cell_type": "code",
   "execution_count": 4,
   "metadata": {},
   "outputs": [
    {
     "data": {
      "text/plain": [
       "[1, 10, 16, 18]"
      ]
     },
     "execution_count": 4,
     "metadata": {},
     "output_type": "execute_result"
    }
   ],
   "source": [
    "s.operator_assignment(input_data, output_data, 3)"
   ]
  },
  {
   "cell_type": "code",
   "execution_count": 5,
   "metadata": {},
   "outputs": [
    {
     "name": "stdout",
     "output_type": "stream",
     "text": [
      "-- Operator 5 schedule --\n",
      "Day 0: []\n",
      "Day 1: [195 - 225]\n",
      "Day 2: []\n",
      "Day 3: [175 - 195]\n",
      "Day 4: []\n",
      "Day 5: [160 - 180]\n",
      "Day 6: [160 - 190]\n",
      "Day 7: []\n",
      "Day 8: []\n",
      "Day 9: [35 - 70 --> 210 - 230]\n",
      "\n"
     ]
    },
    {
     "data": {
      "text/plain": [
       "[(6, 1, 1, 195, 225),\n",
       " (9, 3, 1, 175, 195),\n",
       " (6, 5, 1, 160, 180),\n",
       " (9, 6, 1, 160, 190),\n",
       " (6, 9, 1, 35, 70),\n",
       " (15, 9, 1, 210, 230)]"
      ]
     },
     "execution_count": 5,
     "metadata": {},
     "output_type": "execute_result"
    }
   ],
   "source": [
    "s.operator_schedule(input_data, output_data, 5, True)"
   ]
  },
  {
   "cell_type": "code",
   "execution_count": 6,
   "metadata": {},
   "outputs": [
    {
     "name": "stdout",
     "output_type": "stream",
     "text": [
      "-- Operator 1 utilization --\n",
      "Utilization: 9.17%\n"
     ]
    },
    {
     "data": {
      "text/plain": [
       "9.17"
      ]
     },
     "execution_count": 6,
     "metadata": {},
     "output_type": "execute_result"
    }
   ],
   "source": [
    "s.operator_utilization(input_data, output_data, 1, True)"
   ]
  },
  {
   "cell_type": "code",
   "execution_count": 7,
   "metadata": {},
   "outputs": [
    {
     "name": "stdout",
     "output_type": "stream",
     "text": [
      "-- Operator 5 total wage --\n",
      "Total wage: 232.50€\n"
     ]
    },
    {
     "data": {
      "text/plain": [
       "232.5"
      ]
     },
     "execution_count": 7,
     "metadata": {},
     "output_type": "execute_result"
    }
   ],
   "source": [
    "s.operator_total_wage(input_data, output_data, 5, True)"
   ]
  },
  {
   "cell_type": "code",
   "execution_count": 8,
   "metadata": {},
   "outputs": [
    {
     "name": "stdout",
     "output_type": "stream",
     "text": [
      "-- Operator 4 overskill --\n",
      "Overskill: 50.00%\n"
     ]
    },
    {
     "data": {
      "text/plain": [
       "0.5"
      ]
     },
     "execution_count": 8,
     "metadata": {},
     "output_type": "execute_result"
    }
   ],
   "source": [
    "s.operator_overskill(input_data, output_data, 4, True)"
   ]
  },
  {
   "cell_type": "code",
   "execution_count": 4,
   "metadata": {},
   "outputs": [
    {
     "name": "stdout",
     "output_type": "stream",
     "text": [
      "-- Patient 20 expense --\n",
      "Total expense: 0.00€\n"
     ]
    },
    {
     "data": {
      "text/plain": [
       "0"
      ]
     },
     "execution_count": 4,
     "metadata": {},
     "output_type": "execute_result"
    }
   ],
   "source": [
    "s.patient_expense(input_data, output_data, 20, True)"
   ]
  },
  {
   "cell_type": "code",
   "execution_count": null,
   "metadata": {},
   "outputs": [],
   "source": []
  },
  {
   "cell_type": "code",
   "execution_count": 10,
   "metadata": {},
   "outputs": [
    {
     "name": "stdout",
     "output_type": "stream",
     "text": [
      "-- Patient 3 visits per skill --\n",
      "Skill 1: 2 visits\n"
     ]
    },
    {
     "data": {
      "text/plain": [
       "{1: 2}"
      ]
     },
     "execution_count": 10,
     "metadata": {},
     "output_type": "execute_result"
    }
   ],
   "source": [
    "s.patient_visits_per_skill(input_data, output_data, 3, True)"
   ]
  },
  {
   "cell_type": "code",
   "execution_count": 11,
   "metadata": {},
   "outputs": [
    {
     "name": "stdout",
     "output_type": "stream",
     "text": [
      "-- Operator 0 efficiency --\n",
      "Efficiency: 87.47%\n"
     ]
    },
    {
     "data": {
      "text/plain": [
       "0.874714362435944"
      ]
     },
     "execution_count": 11,
     "metadata": {},
     "output_type": "execute_result"
    }
   ],
   "source": [
    "s.operator_efficiency(input_data, output_data, 0, True)"
   ]
  },
  {
   "attachments": {},
   "cell_type": "markdown",
   "metadata": {},
   "source": [
    "## Scenari di incertezza"
   ]
  },
  {
   "cell_type": "code",
   "execution_count": 12,
   "metadata": {},
   "outputs": [
    {
     "name": "stdout",
     "output_type": "stream",
     "text": [
      "-- Operator 5 schedule --\n",
      "Day 0: []\n",
      "Day 1: [195 - 225]\n",
      "Day 2: []\n",
      "Day 3: [175 - 195]\n",
      "Day 4: []\n",
      "Day 5: [160 - 180]\n",
      "Day 6: [160 - 190]\n",
      "Day 7: []\n",
      "Day 8: []\n",
      "Day 9: [35 - 70 --> 210 - 230]\n",
      "\n"
     ]
    },
    {
     "data": {
      "text/plain": [
       "[(6, 1, 1, 195, 225),\n",
       " (9, 3, 1, 175, 195),\n",
       " (6, 5, 1, 160, 180),\n",
       " (9, 6, 1, 160, 190),\n",
       " (6, 9, 1, 35, 70),\n",
       " (15, 9, 1, 210, 230)]"
      ]
     },
     "execution_count": 12,
     "metadata": {},
     "output_type": "execute_result"
    }
   ],
   "source": [
    "s.operator_schedule(input_data, output_data, 5, True)"
   ]
  },
  {
   "cell_type": "code",
   "execution_count": 13,
   "metadata": {},
   "outputs": [
    {
     "name": "stdout",
     "output_type": "stream",
     "text": [
      "-- Operator 5 availability --\n",
      "Availability: [1, 1, 1, 1, 1, 1, 1, 0, 1, 1]\n",
      "-- Operator 5 times --\n",
      "Start times: [0, 0, 0, 0, 0, 0, 120, 0, 0, 0]\n",
      "End times: [300, 300, 300, 210, 300, 300, 300, 0, 300, 300]\n"
     ]
    },
    {
     "data": {
      "text/plain": [
       "([0, 0, 0, 0, 0, 0, 120, 0, 0, 0],\n",
       " [300, 300, 300, 210, 300, 300, 300, 0, 300, 300])"
      ]
     },
     "execution_count": 13,
     "metadata": {},
     "output_type": "execute_result"
    }
   ],
   "source": [
    "s.operator_availability(input_data, 5, True)\n",
    "s.operator_times(input_data, 5, True)"
   ]
  },
  {
   "cell_type": "code",
   "execution_count": 14,
   "metadata": {},
   "outputs": [
    {
     "data": {
      "text/plain": [
       "[5]"
      ]
     },
     "execution_count": 14,
     "metadata": {},
     "output_type": "execute_result"
    }
   ],
   "source": [
    "s.patient_assignment(input_data, output_data, 9)"
   ]
  },
  {
   "cell_type": "code",
   "execution_count": 15,
   "metadata": {},
   "outputs": [
    {
     "name": "stdout",
     "output_type": "stream",
     "text": [
      "-- Not executed visits --\n",
      "Number of not executed visits: 1\n",
      "Not executed visits: [(3, 7, 1, 30, 50)]\n"
     ]
    },
    {
     "data": {
      "text/plain": [
       "[(3, 7, 1, 30, 50)]"
      ]
     },
     "execution_count": 15,
     "metadata": {},
     "output_type": "execute_result"
    }
   ],
   "source": [
    "s.not_executed_visits(input_data, output_data, True)"
   ]
  },
  {
   "cell_type": "code",
   "execution_count": 16,
   "metadata": {},
   "outputs": [
    {
     "name": "stdout",
     "output_type": "stream",
     "text": [
      "----- PATIENT 8, SKILL 1, DURATION 30 -----\n",
      "----- DAY 0 -----\n",
      "Operator 1 schedule: []\n",
      "Operator not available\n",
      "----- DAY 0 -----\n",
      "Operator 0 schedule: [(0, 0, 1, 150, 180)]\n",
      "First slot: 35.0 - 85.0 at 41.53\n",
      "Last slot: 210.0 - 235.0 at 41.53\n",
      "----- DAY 0 -----\n",
      "Operator 2 schedule: []\n",
      "Operator not available\n",
      "----- DAY 0 -----\n",
      "Operator 3 schedule: []\n",
      "No visits scheduled for operator 3 on day 0\n",
      "Slot: 25.0 - 245.0, at 39.3\n",
      "----- DAY 0 -----\n",
      "Operator 4 schedule: []\n",
      "No visits scheduled for operator 4 on day 0\n",
      "Slot: 85.0 - 245.0, at 53.59\n",
      "----- DAY 0 -----\n",
      "Operator 5 schedule: []\n",
      "No visits scheduled for operator 5 on day 0\n",
      "Slot: 35.0 - 235.0, at 57.17\n",
      "----- DAY 0 -----\n",
      "Operator 6 schedule: [(7, 0, 1, 105, 135)]\n",
      "First slot: 20.0 - 55.0 at 46.63\n",
      "Last slot: 150.0 - 250.0 at 46.63\n",
      "----- DAY 1 -----\n",
      "Operator 1 schedule: [(8, 1, 1, 230, 270)]\n",
      "Already visited\n",
      "----- DAY 1 -----\n",
      "Operator 0 schedule: []\n",
      "Operator not available\n",
      "----- DAY 1 -----\n",
      "Operator 2 schedule: [(3, 1, 1, 190, 210)]\n",
      "First slot: 35.0 - 125.0 at 36.48\n",
      "Last slot: 230.0 - 235.0 at 36.48\n",
      "----- DAY 1 -----\n",
      "Operator 3 schedule: [(1, 1, 1, 35, 55), (10, 1, 1, 235, 255)]\n",
      "First slot: not enough time (25.0 - -20.0)\n",
      "Slot 1: 90.0 - 195.0 at 30.8\n",
      "Last slot: not enough time (265.0 - 245.0)\n",
      "----- DAY 1 -----\n",
      "Operator 4 schedule: []\n",
      "Operator not available\n",
      "----- DAY 1 -----\n",
      "Operator 5 schedule: [(6, 1, 1, 195, 225)]\n",
      "First slot: 35.0 - 130.0 at 47.51\n",
      "Last slot: 235.0 - 235.0 at 47.51\n",
      "----- DAY 1 -----\n",
      "Operator 6 schedule: []\n",
      "No visits scheduled for operator 6 on day 1\n",
      "Slot: 20.0 - 130.0, at 52.0\n",
      "----- DAY 2 -----\n",
      "Operator 1 schedule: []\n",
      "No visits scheduled for operator 1 on day 2\n",
      "Slot: 30.0 - 240.0, at 40.03\n",
      "----- DAY 2 -----\n",
      "Operator 0 schedule: []\n",
      "No visits scheduled for operator 0 on day 2\n",
      "Slot: 35.0 - 235.0, at 43.95\n",
      "----- DAY 2 -----\n",
      "Operator 2 schedule: []\n",
      "No visits scheduled for operator 2 on day 2\n",
      "Slot: 35.0 - 235.0, at 42.17\n",
      "----- DAY 2 -----\n",
      "Operator 3 schedule: [(16, 2, 1, 195, 230)]\n",
      "First slot: 25.0 - 140.0 at 34.98\n",
      "Last slot: 245.0 - 245.0 at 34.98\n",
      "----- DAY 2 -----\n",
      "Operator 4 schedule: []\n",
      "No visits scheduled for operator 4 on day 2\n",
      "Slot: 25.0 - 245.0, at 53.59\n",
      "----- DAY 2 -----\n",
      "Operator 5 schedule: []\n",
      "No visits scheduled for operator 5 on day 2\n",
      "Slot: 35.0 - 235.0, at 57.17\n",
      "----- DAY 2 -----\n",
      "Operator 6 schedule: []\n",
      "No visits scheduled for operator 6 on day 2\n",
      "Slot: 20.0 - 250.0, at 52.0\n",
      "----- DAY 3 -----\n",
      "Operator 1 schedule: []\n",
      "No visits scheduled for operator 1 on day 3\n",
      "Slot: 30.0 - 240.0, at 40.03\n",
      "----- DAY 3 -----\n",
      "Operator 0 schedule: [(11, 3, 1, 160, 190)]\n",
      "First slot: 35.0 - 95.0 at 39.25\n",
      "Last slot: 215.0 - 235.0 at 39.25\n",
      "----- DAY 3 -----\n",
      "Operator 2 schedule: []\n",
      "No visits scheduled for operator 2 on day 3\n",
      "Slot: 35.0 - 235.0, at 42.17\n",
      "----- DAY 3 -----\n",
      "Operator 3 schedule: [(18, 3, 1, 175, 200)]\n",
      "First slot: 25.0 - 120.0 at 32.17\n",
      "Last slot: 215.0 - 245.0 at 32.17\n",
      "----- DAY 3 -----\n",
      "Operator 4 schedule: []\n",
      "No visits scheduled for operator 4 on day 3\n",
      "Slot: 25.0 - 245.0, at 53.59\n",
      "----- DAY 3 -----\n",
      "Operator 5 schedule: [(9, 3, 1, 175, 195)]\n",
      "First slot: 35.0 - 110.0 at 55.59\n",
      "Last slot: not enough time (230.0 - 145.0)\n",
      "----- DAY 3 -----\n",
      "Operator 6 schedule: [(2, 3, 1, 225, 265)]\n",
      "First slot: 20.0 - 175.0 at 49.97\n",
      "Last slot: not enough time (280.0 - 250.0)\n",
      "----- DAY 4 -----\n",
      "Operator 1 schedule: [(8, 4, 2, 110, 130)]\n",
      "Already visited\n",
      "----- DAY 4 -----\n",
      "Operator 0 schedule: [(11, 4, 2, 200, 240)]\n",
      "First slot: 35.0 - 135.0 at 39.25\n",
      "Last slot: not enough time (265.0 - 235.0)\n",
      "----- DAY 4 -----\n",
      "Operator 2 schedule: []\n",
      "Operator not available\n",
      "----- DAY 4 -----\n",
      "Operator 3 schedule: []\n",
      "No visits scheduled for operator 3 on day 4\n",
      "Slot: 25.0 - 245.0, at 39.3\n",
      "----- DAY 4 -----\n",
      "Operator 4 schedule: []\n",
      "No visits scheduled for operator 4 on day 4\n",
      "Slot: 25.0 - 245.0, at 53.59\n",
      "----- DAY 4 -----\n",
      "Operator 5 schedule: []\n",
      "No visits scheduled for operator 5 on day 4\n",
      "Slot: 35.0 - 235.0, at 57.17\n",
      "----- DAY 4 -----\n",
      "Operator 6 schedule: []\n",
      "No visits scheduled for operator 6 on day 4\n",
      "Slot: 20.0 - 250.0, at 52.0\n",
      "----- DAY 5 -----\n",
      "Operator 1 schedule: [(8, 5, 1, 110, 140)]\n",
      "Already visited\n",
      "----- DAY 5 -----\n",
      "Operator 0 schedule: [(4, 5, 1, 45, 85)]\n",
      "First slot: not enough time (35.0 - -20.0)\n",
      "Last slot: 110.0 - 235.0 at 39.7\n",
      "----- DAY 5 -----\n",
      "Operator 2 schedule: [(3, 5, 1, 120, 140), (12, 5, 1, 150, 175)]\n",
      "First slot: 35.0 - 55.0 at 36.48\n",
      "Slot 1: not enough time (160.0 - 95.0)\n",
      "Last slot: 200.0 - 235.0 at 38.79\n",
      "----- DAY 5 -----\n",
      "Operator 3 schedule: []\n",
      "Operator not available\n",
      "----- DAY 5 -----\n",
      "Operator 4 schedule: []\n",
      "No visits scheduled for operator 4 on day 5\n",
      "Slot: 25.0 - 245.0, at 53.59\n",
      "----- DAY 5 -----\n",
      "Operator 5 schedule: [(6, 5, 1, 160, 180)]\n",
      "First slot: 35.0 - 95.0 at 47.51\n",
      "Last slot: 190.0 - 235.0 at 47.51\n",
      "----- DAY 5 -----\n",
      "Operator 6 schedule: [(5, 5, 2, 175, 215)]\n",
      "First slot: 20.0 - 125.0 at 48.99\n",
      "Last slot: 230.0 - 250.0 at 48.99\n",
      "----- DAY 6 -----\n",
      "Operator 1 schedule: [(8, 6, 1, 45, 90)]\n",
      "Already visited\n",
      "----- DAY 6 -----\n",
      "Operator 0 schedule: []\n",
      "Operator not available\n",
      "----- DAY 6 -----\n",
      "Operator 2 schedule: [(12, 6, 1, 110, 140), (19, 6, 2, 145, 175)]\n",
      "First slot: 35.0 - 45.0 at 38.79\n",
      "Slot 1: not enough time (165.0 - 85.0)\n",
      "Last slot: 205.0 - 235.0 at 40.58\n",
      "----- DAY 6 -----\n",
      "Operator 3 schedule: [(18, 6, 1, 165, 185)]\n",
      "First slot: 25.0 - 110.0 at 32.17\n",
      "Last slot: 200.0 - 245.0 at 32.17\n",
      "----- DAY 6 -----\n",
      "Operator 4 schedule: []\n",
      "Operator not available\n",
      "----- DAY 6 -----\n",
      "Operator 5 schedule: [(9, 6, 1, 160, 190)]\n",
      "First slot: not enough time (155.0 - 95.0)\n",
      "Last slot: 225.0 - 235.0 at 55.59\n",
      "----- DAY 6 -----\n",
      "Operator 6 schedule: []\n",
      "Operator not available\n",
      "----- DAY 7 -----\n",
      "Operator 1 schedule: []\n",
      "No visits scheduled for operator 1 on day 7\n",
      "Slot: 150.0 - 240.0, at 40.03\n",
      "----- DAY 7 -----\n",
      "Operator 0 schedule: []\n",
      "No visits scheduled for operator 0 on day 7\n",
      "Slot: 35.0 - 235.0, at 43.95\n",
      "----- DAY 7 -----\n",
      "Operator 2 schedule: [(12, 7, 1, 30, 90)]\n",
      "First slot: not enough time (35.0 - -35.0)\n",
      "Last slot: 115.0 - 175.0 at 38.79\n",
      "----- DAY 7 -----\n",
      "Operator 3 schedule: [(18, 7, 1, 80, 120)]\n",
      "First slot: 25.0 - 25.0 at 32.17\n",
      "Last slot: 135.0 - 245.0 at 32.17\n",
      "----- DAY 7 -----\n",
      "Operator 4 schedule: [(17, 7, 2, 165, 175)]\n",
      "First slot: 25.0 - 110.0 at 47.33\n",
      "Last slot: 185.0 - 245.0 at 47.33\n",
      "----- DAY 7 -----\n",
      "Operator 5 schedule: []\n",
      "Operator not available\n",
      "----- DAY 7 -----\n",
      "Operator 6 schedule: []\n",
      "No visits scheduled for operator 6 on day 7\n",
      "Slot: 20.0 - 250.0, at 52.0\n",
      "----- DAY 8 -----\n",
      "Operator 1 schedule: []\n",
      "No visits scheduled for operator 1 on day 8\n",
      "Slot: 30.0 - 240.0, at 40.03\n",
      "----- DAY 8 -----\n",
      "Operator 0 schedule: []\n",
      "No visits scheduled for operator 0 on day 8\n",
      "Slot: 35.0 - 235.0, at 43.95\n",
      "----- DAY 8 -----\n",
      "Operator 2 schedule: []\n",
      "Operator not available\n",
      "----- DAY 8 -----\n",
      "Operator 3 schedule: []\n",
      "No visits scheduled for operator 3 on day 8\n",
      "Slot: 25.0 - 245.0, at 39.3\n",
      "----- DAY 8 -----\n",
      "Operator 4 schedule: []\n",
      "No visits scheduled for operator 4 on day 8\n",
      "Slot: 25.0 - 245.0, at 53.59\n",
      "----- DAY 8 -----\n",
      "Operator 5 schedule: []\n",
      "No visits scheduled for operator 5 on day 8\n",
      "Slot: 35.0 - 235.0, at 57.17\n",
      "----- DAY 8 -----\n",
      "Operator 6 schedule: []\n",
      "No visits scheduled for operator 6 on day 8\n",
      "Slot: 20.0 - 250.0, at 52.0\n",
      "----- DAY 9 -----\n",
      "Operator 1 schedule: [(8, 9, 1, 90, 120)]\n",
      "Already visited\n",
      "----- DAY 9 -----\n",
      "Operator 0 schedule: [(11, 9, 1, 60, 80)]\n",
      "First slot: not enough time (35.0 - -5.0)\n",
      "Last slot: 105.0 - 115.0 at 39.25\n",
      "----- DAY 9 -----\n",
      "Operator 2 schedule: []\n",
      "No visits scheduled for operator 2 on day 9\n",
      "Slot: 35.0 - 235.0, at 42.17\n",
      "----- DAY 9 -----\n",
      "Operator 3 schedule: []\n",
      "No visits scheduled for operator 3 on day 9\n",
      "Slot: 25.0 - 245.0, at 39.3\n",
      "----- DAY 9 -----\n",
      "Operator 4 schedule: [(13, 9, 1, 220, 270), (17, 9, 1, 170, 210), (14, 9, 2, 105, 155)]\n",
      "First slot: 25.0 - 165.0 at 46.93\n",
      "Slot 1: not enough time (280.0 - 130.0)\n",
      "Slot 2: not enough time (220.0 - 55.0)\n",
      "Last slot: 175.0 - 245.0 at 49.6\n",
      "----- DAY 9 -----\n",
      "Operator 5 schedule: [(6, 9, 1, 35, 70), (15, 9, 1, 210, 230)]\n",
      "First slot: not enough time (35.0 - -30.0)\n",
      "Slot 1: 80.0 - 165.0 at 47.31\n",
      "Last slot: not enough time (245.0 - 235.0)\n",
      "----- DAY 9 -----\n",
      "Operator 6 schedule: [(7, 9, 1, 210, 250)]\n",
      "First slot: 80.0 - 160.0 at 46.63\n",
      "Last slot: not enough time (265.0 - 250.0)\n"
     ]
    },
    {
     "data": {
      "text/plain": [
       "({0: {1: []},\n",
       "  1: {1: []},\n",
       "  2: {1: [(30.0, 240.0, 40.03)]},\n",
       "  3: {1: [(30.0, 240.0, 40.03)]},\n",
       "  4: {1: []},\n",
       "  5: {1: []},\n",
       "  6: {1: []},\n",
       "  7: {1: [(150.0, 240.0, 40.03)]},\n",
       "  8: {1: [(30.0, 240.0, 40.03)]},\n",
       "  9: {1: []}},\n",
       " {0: {0: [(35.0, 85.0, 41.53), (210.0, 235.0, 41.53)],\n",
       "   2: [],\n",
       "   3: [(25.0, 245.0, 39.3)],\n",
       "   4: [(85.0, 245.0, 53.59)],\n",
       "   5: [(35.0, 235.0, 57.17)],\n",
       "   6: [(20.0, 55.0, 46.63), (150.0, 250.0, 46.63)]},\n",
       "  1: {0: [],\n",
       "   2: [(35.0, 125.0, 36.48), (230.0, 235.0, 36.48)],\n",
       "   3: [(90.0, 195.0, 30.8)],\n",
       "   4: [],\n",
       "   5: [(35.0, 130.0, 47.51), (235.0, 235.0, 47.51)],\n",
       "   6: [(20.0, 130.0, 52.0)]},\n",
       "  2: {0: [(35.0, 235.0, 43.95)],\n",
       "   2: [(35.0, 235.0, 42.17)],\n",
       "   3: [(25.0, 140.0, 34.98), (245.0, 245.0, 34.98)],\n",
       "   4: [(25.0, 245.0, 53.59)],\n",
       "   5: [(35.0, 235.0, 57.17)],\n",
       "   6: [(20.0, 250.0, 52.0)]},\n",
       "  3: {0: [(35.0, 95.0, 39.25), (215.0, 235.0, 39.25)],\n",
       "   2: [(35.0, 235.0, 42.17)],\n",
       "   3: [(25.0, 120.0, 32.17), (215.0, 245.0, 32.17)],\n",
       "   4: [(25.0, 245.0, 53.59)],\n",
       "   5: [(35.0, 110.0, 55.59)],\n",
       "   6: [(20.0, 175.0, 49.97)]},\n",
       "  4: {0: [(35.0, 135.0, 39.25)],\n",
       "   2: [],\n",
       "   3: [(25.0, 245.0, 39.3)],\n",
       "   4: [(25.0, 245.0, 53.59)],\n",
       "   5: [(35.0, 235.0, 57.17)],\n",
       "   6: [(20.0, 250.0, 52.0)]},\n",
       "  5: {0: [(110.0, 235.0, 39.7)],\n",
       "   2: [(35.0, 55.0, 36.48), (200.0, 235.0, 38.79)],\n",
       "   3: [],\n",
       "   4: [(25.0, 245.0, 53.59)],\n",
       "   5: [(35.0, 95.0, 47.51), (190.0, 235.0, 47.51)],\n",
       "   6: [(20.0, 125.0, 48.99), (230.0, 250.0, 48.99)]},\n",
       "  6: {0: [],\n",
       "   2: [(35.0, 45.0, 38.79), (205.0, 235.0, 40.58)],\n",
       "   3: [(25.0, 110.0, 32.17), (200.0, 245.0, 32.17)],\n",
       "   4: [],\n",
       "   5: [(225.0, 235.0, 55.59)],\n",
       "   6: []},\n",
       "  7: {0: [(35.0, 235.0, 43.95)],\n",
       "   2: [(115.0, 175.0, 38.79)],\n",
       "   3: [(25.0, 25.0, 32.17), (135.0, 245.0, 32.17)],\n",
       "   4: [(25.0, 110.0, 47.33), (185.0, 245.0, 47.33)],\n",
       "   5: [],\n",
       "   6: [(20.0, 250.0, 52.0)]},\n",
       "  8: {0: [(35.0, 235.0, 43.95)],\n",
       "   2: [],\n",
       "   3: [(25.0, 245.0, 39.3)],\n",
       "   4: [(25.0, 245.0, 53.59)],\n",
       "   5: [(35.0, 235.0, 57.17)],\n",
       "   6: [(20.0, 250.0, 52.0)]},\n",
       "  9: {0: [(105.0, 115.0, 39.25)],\n",
       "   2: [(35.0, 235.0, 42.17)],\n",
       "   3: [(25.0, 245.0, 39.3)],\n",
       "   4: [(25.0, 165.0, 46.93), (175.0, 245.0, 49.6)],\n",
       "   5: [(80.0, 165.0, 47.31)],\n",
       "   6: [(80.0, 160.0, 46.63)]}})"
      ]
     },
     "execution_count": 16,
     "metadata": {},
     "output_type": "execute_result"
    }
   ],
   "source": [
    "uc.new_visit_existing_patient(8, 1, 30, input_data, output_data, True)"
   ]
  },
  {
   "cell_type": "code",
   "execution_count": 17,
   "metadata": {},
   "outputs": [
    {
     "name": "stdout",
     "output_type": "stream",
     "text": [
      "----- DAY 0 -----\n",
      "Operator 0 schedule: [(0, 0, 1, 150, 180)]\n",
      "First slot: 10.0 - 110.0 at 32.0\n",
      "Last slot: 190.0 - 260.0 at 32.0\n",
      "----- DAY 0 -----\n",
      "Operator 1 schedule: []\n",
      "Operator not available\n",
      "----- DAY 0 -----\n",
      "Operator 2 schedule: []\n",
      "Operator not available\n",
      "----- DAY 0 -----\n",
      "Operator 3 schedule: []\n",
      "No visits scheduled for operator 3 on day 0\n",
      "Slot: 15.0 - 255.0, at 34.31\n",
      "----- DAY 0 -----\n",
      "Operator 4 schedule: []\n",
      "No visits scheduled for operator 4 on day 0\n",
      "Slot: 75.0 - 255.0, at 50.06\n",
      "----- DAY 0 -----\n",
      "Operator 5 schedule: []\n",
      "No visits scheduled for operator 5 on day 0\n",
      "Slot: 10.0 - 260.0, at 48.58\n",
      "----- DAY 0 -----\n",
      "Operator 6 schedule: [(7, 0, 1, 105, 135)]\n",
      "First slot: 20.0 - 55.0 at 51.49\n",
      "Last slot: 175.0 - 250.0 at 51.49\n",
      "----- DAY 1 -----\n",
      "Operator 0 schedule: []\n",
      "Operator not available\n",
      "----- DAY 1 -----\n",
      "Operator 1 schedule: [(8, 1, 1, 230, 270)]\n",
      "First slot: 10.0 - 190.0 at 33.09\n",
      "Last slot: not enough time (305.0 - 260.0)\n",
      "----- DAY 1 -----\n",
      "Operator 2 schedule: [(3, 1, 1, 190, 210)]\n",
      "First slot: 5.0 - 155.0 at 30.43\n",
      "Last slot: 230.0 - 265.0 at 30.43\n",
      "----- DAY 1 -----\n",
      "Operator 3 schedule: [(1, 1, 1, 35, 55), (10, 1, 1, 235, 255)]\n",
      "First slot: not enough time (15.0 - -10.0)\n",
      "Slot 1: 65.0 - 165.0 at 31.43\n",
      "Last slot: not enough time (295.0 - 255.0)\n",
      "----- DAY 1 -----\n",
      "Operator 4 schedule: []\n",
      "Operator not available\n",
      "----- DAY 1 -----\n",
      "Operator 5 schedule: [(6, 1, 1, 195, 225)]\n",
      "First slot: 10.0 - 155.0 at 47.02\n",
      "Last slot: 255.0 - 260.0 at 47.02\n",
      "----- DAY 1 -----\n",
      "Operator 6 schedule: []\n",
      "No visits scheduled for operator 6 on day 1\n",
      "Slot: 20.0 - 130.0, at 51.51\n",
      "----- DAY 2 -----\n",
      "Operator 0 schedule: []\n",
      "No visits scheduled for operator 0 on day 2\n",
      "Slot: 10.0 - 260.0, at 34.0\n",
      "----- DAY 2 -----\n",
      "Operator 1 schedule: []\n",
      "No visits scheduled for operator 1 on day 2\n",
      "Slot: 10.0 - 260.0, at 33.58\n",
      "----- DAY 2 -----\n",
      "Operator 2 schedule: []\n",
      "No visits scheduled for operator 2 on day 2\n",
      "Slot: 5.0 - 265.0, at 30.57\n",
      "----- DAY 2 -----\n",
      "Operator 3 schedule: [(16, 2, 1, 195, 230)]\n",
      "First slot: 15.0 - 150.0 at 34.14\n",
      "Last slot: 255.0 - 255.0 at 34.14\n",
      "----- DAY 2 -----\n",
      "Operator 4 schedule: []\n",
      "No visits scheduled for operator 4 on day 2\n",
      "Slot: 15.0 - 255.0, at 50.06\n",
      "----- DAY 2 -----\n",
      "Operator 5 schedule: []\n",
      "No visits scheduled for operator 5 on day 2\n",
      "Slot: 10.0 - 260.0, at 48.58\n",
      "----- DAY 2 -----\n",
      "Operator 6 schedule: []\n",
      "No visits scheduled for operator 6 on day 2\n",
      "Slot: 20.0 - 250.0, at 51.51\n",
      "----- DAY 3 -----\n",
      "Operator 0 schedule: [(11, 3, 1, 160, 190)]\n",
      "First slot: 10.0 - 120.0 at 31.44\n",
      "Last slot: 200.0 - 260.0 at 31.44\n",
      "----- DAY 3 -----\n",
      "Operator 1 schedule: []\n",
      "No visits scheduled for operator 1 on day 3\n",
      "Slot: 10.0 - 260.0, at 33.58\n",
      "----- DAY 3 -----\n",
      "Operator 2 schedule: []\n",
      "No visits scheduled for operator 2 on day 3\n",
      "Slot: 5.0 - 265.0, at 30.57\n",
      "----- DAY 3 -----\n",
      "Operator 3 schedule: [(18, 3, 1, 175, 200)]\n",
      "First slot: 15.0 - 130.0 at 34.24\n",
      "Last slot: 240.0 - 255.0 at 34.24\n",
      "----- DAY 3 -----\n",
      "Operator 4 schedule: []\n",
      "No visits scheduled for operator 4 on day 3\n",
      "Slot: 15.0 - 255.0, at 50.06\n",
      "----- DAY 3 -----\n",
      "Operator 5 schedule: [(9, 3, 1, 175, 195)]\n",
      "First slot: 10.0 - 135.0 at 45.07\n",
      "Last slot: not enough time (200.0 - 170.0)\n",
      "----- DAY 3 -----\n",
      "Operator 6 schedule: [(2, 3, 1, 225, 265)]\n",
      "First slot: 20.0 - 175.0 at 51.51\n",
      "Last slot: not enough time (290.0 - 250.0)\n",
      "----- DAY 4 -----\n",
      "Operator 0 schedule: [(11, 4, 2, 200, 240)]\n",
      "First slot: 10.0 - 160.0 at 31.44\n",
      "Last slot: 250.0 - 260.0 at 31.44\n",
      "----- DAY 4 -----\n",
      "Operator 1 schedule: [(8, 4, 2, 110, 130)]\n",
      "First slot: 10.0 - 70.0 at 33.09\n",
      "Last slot: 165.0 - 260.0 at 33.09\n",
      "----- DAY 4 -----\n",
      "Operator 2 schedule: []\n",
      "Operator not available\n",
      "----- DAY 4 -----\n",
      "Operator 3 schedule: []\n",
      "No visits scheduled for operator 3 on day 4\n",
      "Slot: 15.0 - 255.0, at 34.31\n",
      "----- DAY 4 -----\n",
      "Operator 4 schedule: []\n",
      "No visits scheduled for operator 4 on day 4\n",
      "Slot: 15.0 - 255.0, at 50.06\n",
      "----- DAY 4 -----\n",
      "Operator 5 schedule: []\n",
      "No visits scheduled for operator 5 on day 4\n",
      "Slot: 10.0 - 260.0, at 48.58\n",
      "----- DAY 4 -----\n",
      "Operator 6 schedule: []\n",
      "No visits scheduled for operator 6 on day 4\n",
      "Slot: 20.0 - 250.0, at 51.51\n",
      "----- DAY 5 -----\n",
      "Operator 0 schedule: [(4, 5, 1, 45, 85)]\n",
      "First slot: not enough time (10.0 - 5.0)\n",
      "Last slot: 95.0 - 260.0 at 31.13\n",
      "----- DAY 5 -----\n",
      "Operator 1 schedule: [(8, 5, 1, 110, 140)]\n",
      "First slot: 10.0 - 70.0 at 33.09\n",
      "Last slot: 175.0 - 260.0 at 33.09\n",
      "----- DAY 5 -----\n",
      "Operator 2 schedule: [(3, 5, 1, 120, 140), (12, 5, 1, 150, 175)]\n",
      "First slot: 5.0 - 85.0 at 30.43\n",
      "Slot 1: not enough time (160.0 - 110.0)\n",
      "Last slot: 185.0 - 265.0 at 30.54\n",
      "----- DAY 5 -----\n",
      "Operator 3 schedule: []\n",
      "Operator not available\n",
      "----- DAY 5 -----\n",
      "Operator 4 schedule: []\n",
      "No visits scheduled for operator 4 on day 5\n",
      "Slot: 15.0 - 255.0, at 50.06\n",
      "----- DAY 5 -----\n",
      "Operator 5 schedule: [(6, 5, 1, 160, 180)]\n",
      "First slot: 10.0 - 120.0 at 47.02\n",
      "Last slot: 210.0 - 260.0 at 47.02\n",
      "----- DAY 5 -----\n",
      "Operator 6 schedule: [(5, 5, 2, 175, 215)]\n",
      "First slot: 20.0 - 125.0 at 51.47\n",
      "Last slot: 245.0 - 250.0 at 51.47\n",
      "----- DAY 6 -----\n",
      "Operator 0 schedule: []\n",
      "Operator not available\n",
      "----- DAY 6 -----\n",
      "Operator 1 schedule: [(8, 6, 1, 45, 90)]\n",
      "First slot: not enough time (10.0 - 5.0)\n",
      "Last slot: 125.0 - 260.0 at 33.09\n",
      "----- DAY 6 -----\n",
      "Operator 2 schedule: [(12, 6, 1, 110, 140), (19, 6, 2, 145, 175)]\n",
      "First slot: 5.0 - 75.0 at 30.54\n",
      "Slot 1: not enough time (150.0 - 105.0)\n",
      "Last slot: 185.0 - 265.0 at 30.5\n",
      "----- DAY 6 -----\n",
      "Operator 3 schedule: [(18, 6, 1, 165, 185)]\n",
      "First slot: 15.0 - 120.0 at 34.24\n",
      "Last slot: 225.0 - 255.0 at 34.24\n",
      "----- DAY 6 -----\n",
      "Operator 4 schedule: []\n",
      "Operator not available\n",
      "----- DAY 6 -----\n",
      "Operator 5 schedule: [(9, 6, 1, 160, 190)]\n",
      "First slot: not enough time (130.0 - 120.0)\n",
      "Last slot: 195.0 - 260.0 at 45.07\n",
      "----- DAY 6 -----\n",
      "Operator 6 schedule: []\n",
      "Operator not available\n",
      "----- DAY 7 -----\n",
      "Operator 0 schedule: []\n",
      "No visits scheduled for operator 0 on day 7\n",
      "Slot: 10.0 - 260.0, at 34.0\n",
      "----- DAY 7 -----\n",
      "Operator 1 schedule: []\n",
      "No visits scheduled for operator 1 on day 7\n",
      "Slot: 130.0 - 260.0, at 33.58\n",
      "----- DAY 7 -----\n",
      "Operator 2 schedule: [(12, 7, 1, 30, 90)]\n",
      "First slot: not enough time (5.0 - -5.0)\n",
      "Last slot: 100.0 - 205.0 at 30.54\n",
      "----- DAY 7 -----\n",
      "Operator 3 schedule: [(18, 7, 1, 80, 120)]\n",
      "First slot: 15.0 - 35.0 at 34.24\n",
      "Last slot: 160.0 - 255.0 at 34.24\n",
      "----- DAY 7 -----\n",
      "Operator 4 schedule: [(17, 7, 2, 165, 175)]\n",
      "First slot: 15.0 - 120.0 at 49.63\n",
      "Last slot: 205.0 - 255.0 at 49.63\n",
      "----- DAY 7 -----\n",
      "Operator 5 schedule: []\n",
      "Operator not available\n",
      "----- DAY 7 -----\n",
      "Operator 6 schedule: []\n",
      "No visits scheduled for operator 6 on day 7\n",
      "Slot: 20.0 - 250.0, at 51.51\n",
      "----- DAY 8 -----\n",
      "Operator 0 schedule: []\n",
      "No visits scheduled for operator 0 on day 8\n",
      "Slot: 10.0 - 260.0, at 34.0\n",
      "----- DAY 8 -----\n",
      "Operator 1 schedule: []\n",
      "No visits scheduled for operator 1 on day 8\n",
      "Slot: 10.0 - 260.0, at 33.58\n",
      "----- DAY 8 -----\n",
      "Operator 2 schedule: []\n",
      "Operator not available\n",
      "----- DAY 8 -----\n",
      "Operator 3 schedule: []\n",
      "No visits scheduled for operator 3 on day 8\n",
      "Slot: 15.0 - 255.0, at 34.31\n",
      "----- DAY 8 -----\n",
      "Operator 4 schedule: []\n",
      "No visits scheduled for operator 4 on day 8\n",
      "Slot: 15.0 - 255.0, at 50.06\n",
      "----- DAY 8 -----\n",
      "Operator 5 schedule: []\n",
      "No visits scheduled for operator 5 on day 8\n",
      "Slot: 10.0 - 260.0, at 48.58\n",
      "----- DAY 8 -----\n",
      "Operator 6 schedule: []\n",
      "No visits scheduled for operator 6 on day 8\n",
      "Slot: 20.0 - 250.0, at 51.51\n",
      "----- DAY 9 -----\n",
      "Operator 0 schedule: [(11, 9, 1, 60, 80)]\n",
      "First slot: 10.0 - 20.0 at 31.44\n",
      "Last slot: 90.0 - 140.0 at 31.44\n",
      "----- DAY 9 -----\n",
      "Operator 1 schedule: [(8, 9, 1, 90, 120)]\n",
      "First slot: 10.0 - 50.0 at 33.09\n",
      "Last slot: 155.0 - 260.0 at 33.09\n",
      "----- DAY 9 -----\n",
      "Operator 2 schedule: []\n",
      "No visits scheduled for operator 2 on day 9\n",
      "Slot: 5.0 - 265.0, at 30.57\n",
      "----- DAY 9 -----\n",
      "Operator 3 schedule: []\n",
      "No visits scheduled for operator 3 on day 9\n",
      "Slot: 15.0 - 255.0, at 34.31\n",
      "----- DAY 9 -----\n",
      "Operator 4 schedule: [(13, 9, 1, 220, 270), (17, 9, 1, 170, 210), (14, 9, 2, 105, 155)]\n",
      "First slot: 15.0 - 175.0 at 49.95\n",
      "Slot 1: not enough time (305.0 - 110.0)\n",
      "Slot 2: not enough time (240.0 - 45.0)\n",
      "Last slot: 185.0 - 255.0 at 50.05\n",
      "----- DAY 9 -----\n",
      "Operator 5 schedule: [(6, 9, 1, 35, 70), (15, 9, 1, 210, 230)]\n",
      "First slot: not enough time (10.0 - -5.0)\n",
      "Slot 1: 100.0 - 155.0 at 53.14\n",
      "Last slot: 255.0 - 260.0 at 46.64\n",
      "----- DAY 9 -----\n",
      "Operator 6 schedule: [(7, 9, 1, 210, 250)]\n",
      "First slot: 80.0 - 160.0 at 51.49\n",
      "Last slot: not enough time (290.0 - 250.0)\n"
     ]
    },
    {
     "data": {
      "text/plain": [
       "{0: {0: [(10.0, 110.0, 32.0), (190.0, 260.0, 32.0)],\n",
       "  1: [],\n",
       "  2: [],\n",
       "  3: [(15.0, 255.0, 34.31)],\n",
       "  4: [(75.0, 255.0, 50.06)],\n",
       "  5: [(10.0, 260.0, 48.58)],\n",
       "  6: [(20.0, 55.0, 51.49), (175.0, 250.0, 51.49)]},\n",
       " 1: {0: [],\n",
       "  1: [(10.0, 190.0, 33.09)],\n",
       "  2: [(5.0, 155.0, 30.43), (230.0, 265.0, 30.43)],\n",
       "  3: [(65.0, 165.0, 31.43)],\n",
       "  4: [],\n",
       "  5: [(10.0, 155.0, 47.02), (255.0, 260.0, 47.02)],\n",
       "  6: [(20.0, 130.0, 51.51)]},\n",
       " 2: {0: [(10.0, 260.0, 34.0)],\n",
       "  1: [(10.0, 260.0, 33.58)],\n",
       "  2: [(5.0, 265.0, 30.57)],\n",
       "  3: [(15.0, 150.0, 34.14), (255.0, 255.0, 34.14)],\n",
       "  4: [(15.0, 255.0, 50.06)],\n",
       "  5: [(10.0, 260.0, 48.58)],\n",
       "  6: [(20.0, 250.0, 51.51)]},\n",
       " 3: {0: [(10.0, 120.0, 31.44), (200.0, 260.0, 31.44)],\n",
       "  1: [(10.0, 260.0, 33.58)],\n",
       "  2: [(5.0, 265.0, 30.57)],\n",
       "  3: [(15.0, 130.0, 34.24), (240.0, 255.0, 34.24)],\n",
       "  4: [(15.0, 255.0, 50.06)],\n",
       "  5: [(10.0, 135.0, 45.07)],\n",
       "  6: [(20.0, 175.0, 51.51)]},\n",
       " 4: {0: [(10.0, 160.0, 31.44), (250.0, 260.0, 31.44)],\n",
       "  1: [(10.0, 70.0, 33.09), (165.0, 260.0, 33.09)],\n",
       "  2: [],\n",
       "  3: [(15.0, 255.0, 34.31)],\n",
       "  4: [(15.0, 255.0, 50.06)],\n",
       "  5: [(10.0, 260.0, 48.58)],\n",
       "  6: [(20.0, 250.0, 51.51)]},\n",
       " 5: {0: [(95.0, 260.0, 31.13)],\n",
       "  1: [(10.0, 70.0, 33.09), (175.0, 260.0, 33.09)],\n",
       "  2: [(5.0, 85.0, 30.43), (185.0, 265.0, 30.54)],\n",
       "  3: [],\n",
       "  4: [(15.0, 255.0, 50.06)],\n",
       "  5: [(10.0, 120.0, 47.02), (210.0, 260.0, 47.02)],\n",
       "  6: [(20.0, 125.0, 51.47), (245.0, 250.0, 51.47)]},\n",
       " 6: {0: [],\n",
       "  1: [(125.0, 260.0, 33.09)],\n",
       "  2: [(5.0, 75.0, 30.54), (185.0, 265.0, 30.5)],\n",
       "  3: [(15.0, 120.0, 34.24), (225.0, 255.0, 34.24)],\n",
       "  4: [],\n",
       "  5: [(195.0, 260.0, 45.07)],\n",
       "  6: []},\n",
       " 7: {0: [(10.0, 260.0, 34.0)],\n",
       "  1: [(130.0, 260.0, 33.58)],\n",
       "  2: [(100.0, 205.0, 30.54)],\n",
       "  3: [(15.0, 35.0, 34.24), (160.0, 255.0, 34.24)],\n",
       "  4: [(15.0, 120.0, 49.63), (205.0, 255.0, 49.63)],\n",
       "  5: [],\n",
       "  6: [(20.0, 250.0, 51.51)]},\n",
       " 8: {0: [(10.0, 260.0, 34.0)],\n",
       "  1: [(10.0, 260.0, 33.58)],\n",
       "  2: [],\n",
       "  3: [(15.0, 255.0, 34.31)],\n",
       "  4: [(15.0, 255.0, 50.06)],\n",
       "  5: [(10.0, 260.0, 48.58)],\n",
       "  6: [(20.0, 250.0, 51.51)]},\n",
       " 9: {0: [(10.0, 20.0, 31.44), (90.0, 140.0, 31.44)],\n",
       "  1: [(10.0, 50.0, 33.09), (155.0, 260.0, 33.09)],\n",
       "  2: [(5.0, 265.0, 30.57)],\n",
       "  3: [(15.0, 255.0, 34.31)],\n",
       "  4: [(15.0, 175.0, 49.95), (185.0, 255.0, 50.05)],\n",
       "  5: [(100.0, 155.0, 53.14), (255.0, 260.0, 46.64)],\n",
       "  6: [(80.0, 160.0, 51.49)]}}"
      ]
     },
     "execution_count": 17,
     "metadata": {},
     "output_type": "execute_result"
    }
   ],
   "source": [
    "uc.new_visit_new_patient(10, 2, 1, 30, input_data, output_data, True)"
   ]
  },
  {
   "attachments": {},
   "cell_type": "markdown",
   "metadata": {},
   "source": [
    "## Manipolazione dati"
   ]
  },
  {
   "cell_type": "code",
   "execution_count": 18,
   "metadata": {},
   "outputs": [
    {
     "name": "stdout",
     "output_type": "stream",
     "text": [
      "{'numPatients': 21, 'patientLatitude': [5, 19, 6, 7, 9, 2, 14, 6, 16, 11, 7, 8, 14, 7, 0, 17, 8, 13, 4, 11, 10], 'patientLongitude': [6, 2, 24, 18, 9, 29, 27, 39, 33, 0, 37, 11, 11, 35, 28, 22, 23, 28, 37, 7, 2]}\n"
     ]
    }
   ],
   "source": [
    "\n",
    "\n",
    "m.add_patient(10, 2)"
   ]
  },
  {
   "cell_type": "code",
   "execution_count": 5,
   "metadata": {},
   "outputs": [
    {
     "data": {
      "text/plain": [
       "dict_keys(['Cw', 'Cx', 'bigM', 'commutingCost', 'numDays', 'numPatients', 'patientLatitude', 'patientLongitude', 'numOperators', 'operatorAvailability', 'operatorEndTime', 'operatorLatitude', 'operatorLongitude', 'operatorSkill', 'operatorStartTime', 'operatorTime', 'operatorWage', 'visitEndTime', 'visitPriority', 'visitRequest', 'visitSkill', 'visitStartTime', 'commutingTime'])"
      ]
     },
     "execution_count": 5,
     "metadata": {},
     "output_type": "execute_result"
    }
   ],
   "source": [
    "input_data.keys() "
   ]
  }
 ],
 "metadata": {
  "kernelspec": {
   "display_name": "Python 3",
   "language": "python",
   "name": "python3"
  },
  "language_info": {
   "codemirror_mode": {
    "name": "ipython",
    "version": 3
   },
   "file_extension": ".py",
   "mimetype": "text/x-python",
   "name": "python",
   "nbconvert_exporter": "python",
   "pygments_lexer": "ipython3",
   "version": "3.10.6"
  },
  "orig_nbformat": 4
 },
 "nbformat": 4,
 "nbformat_minor": 2
}
